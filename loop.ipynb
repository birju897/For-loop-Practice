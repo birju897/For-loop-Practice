{
 "cells": [
  {
   "cell_type": "code",
   "execution_count": 4,
   "id": "974d1bfb-f004-4d87-b935-1b6d8bfc8f08",
   "metadata": {},
   "outputs": [],
   "source": [
    "l = [1,2,3,4,5]"
   ]
  },
  {
   "cell_type": "code",
   "execution_count": 5,
   "id": "67fc5276-98fa-4469-8021-501878683884",
   "metadata": {},
   "outputs": [
    {
     "name": "stdout",
     "output_type": "stream",
     "text": [
      "1 <class 'int'>\n",
      "2 <class 'int'>\n",
      "3 <class 'int'>\n",
      "4 <class 'int'>\n",
      "5 <class 'int'>\n"
     ]
    }
   ],
   "source": [
    "for i in l :\n",
    "    print(i, type(i))"
   ]
  },
  {
   "cell_type": "code",
   "execution_count": 6,
   "id": "888d4d94-8b95-4ec1-beb4-cc1545b9edd9",
   "metadata": {},
   "outputs": [],
   "source": [
    "l1 = ['birju', 'barot', 'rajal', 'dwarkesh']"
   ]
  },
  {
   "cell_type": "code",
   "execution_count": 7,
   "id": "fe12e442-dd4d-4246-9dff-8b50d039a9f4",
   "metadata": {},
   "outputs": [
    {
     "name": "stdout",
     "output_type": "stream",
     "text": [
      "birju\n",
      "barot\n",
      "rajal\n",
      "dwarkesh\n"
     ]
    }
   ],
   "source": [
    "for i in l1 :\n",
    "    print(i)"
   ]
  },
  {
   "cell_type": "code",
   "execution_count": 8,
   "id": "b1f3a16b-f189-44fa-8f30-d1648747fde3",
   "metadata": {},
   "outputs": [
    {
     "data": {
      "text/plain": [
       "['birju', 'barot', 'rajal', 'dwarkesh']"
      ]
     },
     "execution_count": 8,
     "metadata": {},
     "output_type": "execute_result"
    }
   ],
   "source": [
    "l1 "
   ]
  },
  {
   "cell_type": "code",
   "execution_count": 9,
   "id": "9213adb2-71e6-4962-a190-f2ff54151607",
   "metadata": {},
   "outputs": [
    {
     "name": "stdout",
     "output_type": "stream",
     "text": [
      "birju\n",
      "barot\n",
      "rajal\n",
      "dwarkesh\n",
      "do  something\n"
     ]
    }
   ],
   "source": [
    "for i in l1 :\n",
    "    print(i)\n",
    "else : \n",
    "    print('do  something')    "
   ]
  },
  {
   "cell_type": "code",
   "execution_count": 10,
   "id": "c79b501e-bebc-4c72-9bd2-6110ce73f9dd",
   "metadata": {},
   "outputs": [
    {
     "name": "stdout",
     "output_type": "stream",
     "text": [
      "birju\n"
     ]
    }
   ],
   "source": [
    "for  i in l1 :\n",
    "    if i == 'barot' :\n",
    "        break\n",
    "    print(i)    "
   ]
  },
  {
   "cell_type": "code",
   "execution_count": 11,
   "id": "8772d42f-cd38-45c7-ac05-0440dc6a3645",
   "metadata": {},
   "outputs": [
    {
     "data": {
      "text/plain": [
       "['birju', 'barot', 'rajal', 'dwarkesh']"
      ]
     },
     "execution_count": 11,
     "metadata": {},
     "output_type": "execute_result"
    }
   ],
   "source": [
    "l1"
   ]
  },
  {
   "cell_type": "code",
   "execution_count": 12,
   "id": "e59dd920-1dea-4d57-a525-ad768581b889",
   "metadata": {},
   "outputs": [
    {
     "name": "stdout",
     "output_type": "stream",
     "text": [
      "birju\n",
      "rajal\n",
      "dwarkesh\n"
     ]
    }
   ],
   "source": [
    "for i  in l1 :\n",
    "    if i == 'barot':\n",
    "     continue\n",
    "    print(i)\n"
   ]
  },
  {
   "cell_type": "code",
   "execution_count": 13,
   "id": "aacf1881-a3b5-48fb-96c2-30560c028295",
   "metadata": {},
   "outputs": [
    {
     "name": "stdout",
     "output_type": "stream",
     "text": [
      "birju\n",
      "rajal\n",
      "dwarkesh\n",
      "execute this if for loop is able to complete itself\n"
     ]
    }
   ],
   "source": [
    "for i  in l1 :\n",
    "    if i == 'barot':\n",
    "     continue\n",
    "    print(i)\n",
    "else :\n",
    "    print('execute this if for loop is able to complete itself')"
   ]
  },
  {
   "cell_type": "code",
   "execution_count": 14,
   "id": "6653b8d0-a912-4802-bc22-9ee598d214d9",
   "metadata": {},
   "outputs": [
    {
     "data": {
      "text/plain": [
       "range(0, 5)"
      ]
     },
     "execution_count": 14,
     "metadata": {},
     "output_type": "execute_result"
    }
   ],
   "source": [
    "range(5)"
   ]
  },
  {
   "cell_type": "code",
   "execution_count": 15,
   "id": "c76916a4-11a9-4bfe-965e-cdec5491b0ff",
   "metadata": {},
   "outputs": [
    {
     "data": {
      "text/plain": [
       "[0, 1, 2, 3, 4]"
      ]
     },
     "execution_count": 15,
     "metadata": {},
     "output_type": "execute_result"
    }
   ],
   "source": [
    "list(range(5))"
   ]
  },
  {
   "cell_type": "code",
   "execution_count": 16,
   "id": "0f26b25b-e678-489e-8df7-c0d5010f287b",
   "metadata": {},
   "outputs": [
    {
     "data": {
      "text/plain": [
       "[0, 1, 2, 3, 4]"
      ]
     },
     "execution_count": 16,
     "metadata": {},
     "output_type": "execute_result"
    }
   ],
   "source": [
    "list(range(0,5,1))"
   ]
  },
  {
   "cell_type": "code",
   "execution_count": 17,
   "id": "f1f11be7-0774-4f9a-aa34-3150e9024109",
   "metadata": {},
   "outputs": [
    {
     "data": {
      "text/plain": [
       "range(0, 20)"
      ]
     },
     "execution_count": 17,
     "metadata": {},
     "output_type": "execute_result"
    }
   ],
   "source": [
    "range(0,20)"
   ]
  },
  {
   "cell_type": "code",
   "execution_count": 18,
   "id": "f7e589d7-49d0-49ab-bf22-d7a3e0eff138",
   "metadata": {},
   "outputs": [
    {
     "data": {
      "text/plain": [
       "[0, 2, 4, 6, 8, 10, 12, 14, 16, 18]"
      ]
     },
     "execution_count": 18,
     "metadata": {},
     "output_type": "execute_result"
    }
   ],
   "source": [
    "list(range(0,20,2))"
   ]
  },
  {
   "cell_type": "code",
   "execution_count": 19,
   "id": "24305de7-5a26-4074-aad4-d87f8a4ebb82",
   "metadata": {},
   "outputs": [
    {
     "data": {
      "text/plain": [
       "[0, 3, 6, 9, 12, 15, 18]"
      ]
     },
     "execution_count": 19,
     "metadata": {},
     "output_type": "execute_result"
    }
   ],
   "source": [
    "list(range(0,20,3))"
   ]
  },
  {
   "cell_type": "code",
   "execution_count": 20,
   "id": "5a8b2dff-21ec-49f4-9bd9-67d04117c966",
   "metadata": {},
   "outputs": [
    {
     "data": {
      "text/plain": [
       "[-10, -9, -8, -7, -6, -5, -4, -3, -2, -1]"
      ]
     },
     "execution_count": 20,
     "metadata": {},
     "output_type": "execute_result"
    }
   ],
   "source": [
    "list(range(-10,0 ))"
   ]
  },
  {
   "cell_type": "code",
   "execution_count": 21,
   "id": "9a50e85b-c717-43ef-aaaf-3a35dd4b14a8",
   "metadata": {},
   "outputs": [
    {
     "data": {
      "text/plain": [
       "['birju', 'barot', 'rajal', 'dwarkesh']"
      ]
     },
     "execution_count": 21,
     "metadata": {},
     "output_type": "execute_result"
    }
   ],
   "source": [
    "l1"
   ]
  },
  {
   "cell_type": "code",
   "execution_count": 22,
   "id": "36248568-d762-4647-9fb9-b38df752baa1",
   "metadata": {},
   "outputs": [
    {
     "data": {
      "text/plain": [
       "4"
      ]
     },
     "execution_count": 22,
     "metadata": {},
     "output_type": "execute_result"
    }
   ],
   "source": [
    "len(l1)"
   ]
  },
  {
   "cell_type": "code",
   "execution_count": 23,
   "id": "d4b69212-28ff-4a86-8e63-059b45112adf",
   "metadata": {},
   "outputs": [
    {
     "data": {
      "text/plain": [
       "[0, 1, 2, 3]"
      ]
     },
     "execution_count": 23,
     "metadata": {},
     "output_type": "execute_result"
    }
   ],
   "source": [
    "list(range(len(l1)))"
   ]
  },
  {
   "cell_type": "code",
   "execution_count": 24,
   "id": "436d5e46-a6aa-465b-97cc-ffca335c801a",
   "metadata": {},
   "outputs": [
    {
     "name": "stdout",
     "output_type": "stream",
     "text": [
      "birju\n",
      "barot\n",
      "rajal\n",
      "dwarkesh\n"
     ]
    }
   ],
   "source": [
    "for i in range(len(l1)):\n",
    "    print(l1[i])"
   ]
  },
  {
   "cell_type": "code",
   "execution_count": 25,
   "id": "3315cbe1-1432-45b2-b726-5c333326ee08",
   "metadata": {},
   "outputs": [
    {
     "data": {
      "text/plain": [
       "4"
      ]
     },
     "execution_count": 25,
     "metadata": {},
     "output_type": "execute_result"
    }
   ],
   "source": [
    "len(l1)"
   ]
  },
  {
   "cell_type": "code",
   "execution_count": 26,
   "id": "f67c173c-c8d1-4f2e-8077-e88cacd2f060",
   "metadata": {},
   "outputs": [
    {
     "data": {
      "text/plain": [
       "[3, 2, 1, 0]"
      ]
     },
     "execution_count": 26,
     "metadata": {},
     "output_type": "execute_result"
    }
   ],
   "source": [
    "list(range(len(l1)-1,-1,-1))"
   ]
  },
  {
   "cell_type": "code",
   "execution_count": 27,
   "id": "82971a6b-064e-4455-8d79-06192331b00a",
   "metadata": {},
   "outputs": [
    {
     "data": {
      "text/plain": [
       "['birju', 'barot', 'rajal', 'dwarkesh']"
      ]
     },
     "execution_count": 27,
     "metadata": {},
     "output_type": "execute_result"
    }
   ],
   "source": [
    "l1"
   ]
  },
  {
   "cell_type": "code",
   "execution_count": 28,
   "id": "5c56a536-5683-40f7-9afa-d3860277dec6",
   "metadata": {},
   "outputs": [
    {
     "name": "stdout",
     "output_type": "stream",
     "text": [
      "dwarkesh\n",
      "rajal\n",
      "barot\n",
      "birju\n"
     ]
    }
   ],
   "source": [
    "for i  in range(len(l1)-1,-1,-1):\n",
    "    print(l1[i])"
   ]
  },
  {
   "cell_type": "code",
   "execution_count": 29,
   "id": "38cbafa6-a771-491c-a174-95fd8d0593b6",
   "metadata": {},
   "outputs": [],
   "source": [
    "l1.reverse()"
   ]
  },
  {
   "cell_type": "code",
   "execution_count": 30,
   "id": "46dddec7-6506-4083-92ec-ce25e3761775",
   "metadata": {},
   "outputs": [
    {
     "data": {
      "text/plain": [
       "['dwarkesh', 'rajal', 'barot', 'birju']"
      ]
     },
     "execution_count": 30,
     "metadata": {},
     "output_type": "execute_result"
    }
   ],
   "source": [
    "l1"
   ]
  },
  {
   "cell_type": "code",
   "execution_count": 31,
   "id": "e4a8b486-8b13-4a6a-8ea7-8887ef0db554",
   "metadata": {},
   "outputs": [],
   "source": [
    "l1.reverse()"
   ]
  },
  {
   "cell_type": "code",
   "execution_count": 32,
   "id": "b1cb71c7-9b44-4285-9f32-26301778f69c",
   "metadata": {},
   "outputs": [
    {
     "data": {
      "text/plain": [
       "['birju', 'barot', 'rajal', 'dwarkesh']"
      ]
     },
     "execution_count": 32,
     "metadata": {},
     "output_type": "execute_result"
    }
   ],
   "source": [
    "l1"
   ]
  },
  {
   "cell_type": "code",
   "execution_count": 33,
   "id": "a1ee403e-d7dd-4e04-86cb-50ef4f35a2fa",
   "metadata": {},
   "outputs": [],
   "source": [
    "l2 = [21,55,77,99,54,63,78,25,30]"
   ]
  },
  {
   "cell_type": "code",
   "execution_count": 34,
   "id": "1a20c46c-4a14-4491-8dac-7f320ee5d888",
   "metadata": {},
   "outputs": [
    {
     "data": {
      "text/plain": [
       "[0, 2, 4, 6, 8]"
      ]
     },
     "execution_count": 34,
     "metadata": {},
     "output_type": "execute_result"
    }
   ],
   "source": [
    "list(range(0,len(l2),2))"
   ]
  },
  {
   "cell_type": "code",
   "execution_count": 35,
   "id": "511c013b-194c-40d0-847b-ea1eba9fb308",
   "metadata": {},
   "outputs": [
    {
     "name": "stdout",
     "output_type": "stream",
     "text": [
      "21\n",
      "77\n",
      "54\n",
      "78\n",
      "30\n"
     ]
    }
   ],
   "source": [
    "for i in range(0,len(l2),2) :\n",
    "    print(l2[i])"
   ]
  },
  {
   "cell_type": "code",
   "execution_count": 36,
   "id": "b1190c0b-e385-4dbc-af84-7de35c43f4c4",
   "metadata": {},
   "outputs": [
    {
     "name": "stdout",
     "output_type": "stream",
     "text": [
      "21\n",
      "55\n",
      "77\n",
      "99\n",
      "54\n",
      "63\n",
      "78\n",
      "25\n",
      "30\n"
     ]
    }
   ],
   "source": [
    "for i in range(0,len(l2),1) :\n",
    "    print(l2[i])"
   ]
  },
  {
   "cell_type": "code",
   "execution_count": 37,
   "id": "43025981-4089-4ff0-a89d-9d533600585f",
   "metadata": {},
   "outputs": [
    {
     "data": {
      "text/plain": [
       "[21, 55, 77, 99, 54, 63, 78, 25, 30]"
      ]
     },
     "execution_count": 37,
     "metadata": {},
     "output_type": "execute_result"
    }
   ],
   "source": [
    "l2"
   ]
  },
  {
   "cell_type": "code",
   "execution_count": 38,
   "id": "2ab73d53-ab8d-44c6-b069-45ebfc04da2b",
   "metadata": {},
   "outputs": [
    {
     "name": "stdout",
     "output_type": "stream",
     "text": [
      "21\n",
      "99\n",
      "78\n"
     ]
    }
   ],
   "source": [
    "for i in range(0,len(l2),3):\n",
    "    print(l2[i])"
   ]
  },
  {
   "cell_type": "code",
   "execution_count": 39,
   "id": "ddff741f-5694-41be-ac15-334d39baa6c3",
   "metadata": {},
   "outputs": [
    {
     "data": {
      "text/plain": [
       "[1, 2, 3, 4, 5]"
      ]
     },
     "execution_count": 39,
     "metadata": {},
     "output_type": "execute_result"
    }
   ],
   "source": [
    "l"
   ]
  },
  {
   "cell_type": "code",
   "execution_count": 40,
   "id": "6ca6e758-7548-4f50-a4d6-c130a7d6cae8",
   "metadata": {},
   "outputs": [
    {
     "data": {
      "text/plain": [
       "[21, 55, 77, 99, 54, 63, 78, 25, 30]"
      ]
     },
     "execution_count": 40,
     "metadata": {},
     "output_type": "execute_result"
    }
   ],
   "source": [
    "l2"
   ]
  },
  {
   "cell_type": "code",
   "execution_count": 41,
   "id": "d927a2db-ba26-46f5-83f8-6df06bb04c80",
   "metadata": {},
   "outputs": [
    {
     "data": {
      "text/plain": [
       "502"
      ]
     },
     "execution_count": 41,
     "metadata": {},
     "output_type": "execute_result"
    }
   ],
   "source": [
    "sum(l2)"
   ]
  },
  {
   "cell_type": "code",
   "execution_count": 42,
   "id": "df261458-b5d1-4c20-b1e6-9870a89030fc",
   "metadata": {},
   "outputs": [
    {
     "data": {
      "text/plain": [
       "502"
      ]
     },
     "execution_count": 42,
     "metadata": {},
     "output_type": "execute_result"
    }
   ],
   "source": [
    "result = 0\n",
    "for i in l2 :\n",
    "    result = result + i\n",
    "result    "
   ]
  },
  {
   "cell_type": "code",
   "execution_count": 43,
   "id": "02770fa7-713a-4eb9-9a70-7105e30c0fdb",
   "metadata": {},
   "outputs": [],
   "source": [
    "t =  (1,2,3,4,5)"
   ]
  },
  {
   "cell_type": "code",
   "execution_count": 44,
   "id": "a825abf5-67f9-49a7-95e2-036d2df60fef",
   "metadata": {},
   "outputs": [
    {
     "name": "stdout",
     "output_type": "stream",
     "text": [
      "1\n",
      "2\n",
      "3\n",
      "4\n",
      "5\n"
     ]
    }
   ],
   "source": [
    "for i in t:\n",
    "    print(i)"
   ]
  },
  {
   "cell_type": "code",
   "execution_count": 45,
   "id": "9d65d894-5e31-4590-9589-27d1561f7011",
   "metadata": {},
   "outputs": [
    {
     "data": {
      "text/plain": [
       "15"
      ]
     },
     "execution_count": 45,
     "metadata": {},
     "output_type": "execute_result"
    }
   ],
   "source": [
    "result = 0\n",
    "for i in t :\n",
    "    result = result + i\n",
    "result    "
   ]
  },
  {
   "cell_type": "code",
   "execution_count": 46,
   "id": "138fbece-a285-4a64-a522-1bd28aab401a",
   "metadata": {},
   "outputs": [],
   "source": [
    "s =  {1,2,3,'birju','barot','rajal'}"
   ]
  },
  {
   "cell_type": "code",
   "execution_count": 47,
   "id": "3fa8fb8d-b064-45c7-8c42-db80b482487c",
   "metadata": {},
   "outputs": [
    {
     "data": {
      "text/plain": [
       "{1, 2, 3, 'barot', 'birju', 'rajal'}"
      ]
     },
     "execution_count": 47,
     "metadata": {},
     "output_type": "execute_result"
    }
   ],
   "source": [
    "s"
   ]
  },
  {
   "cell_type": "code",
   "execution_count": 49,
   "id": "eb27eb39-70e8-438e-92bf-13dcd2311b70",
   "metadata": {},
   "outputs": [
    {
     "name": "stdout",
     "output_type": "stream",
     "text": [
      "1\n",
      "2\n",
      "3\n",
      "birju\n",
      "barot\n",
      "rajal\n"
     ]
    }
   ],
   "source": [
    "for i in s:\n",
    "    print(i)"
   ]
  },
  {
   "cell_type": "code",
   "execution_count": 50,
   "id": "68abdd84-85da-4b5c-9a3b-f1cb85f23798",
   "metadata": {},
   "outputs": [],
   "source": [
    "s1 = 'pwskills'"
   ]
  },
  {
   "cell_type": "code",
   "execution_count": 51,
   "id": "a03ebe5a-b55a-41ad-8827-531d04c9f898",
   "metadata": {},
   "outputs": [
    {
     "name": "stdout",
     "output_type": "stream",
     "text": [
      "p\n",
      "w\n",
      "s\n",
      "k\n",
      "i\n",
      "l\n",
      "l\n",
      "s\n"
     ]
    }
   ],
   "source": [
    "for i in s1:\n",
    "    print(i)\n"
   ]
  },
  {
   "cell_type": "code",
   "execution_count": 53,
   "id": "1950071e-c883-412b-8381-745ce396cf58",
   "metadata": {},
   "outputs": [],
   "source": [
    "d = {'name' : 'birju', 'class': 'data science master', \n",
    "     'topic': ['python','stats','machine learning','DL','CV','NLP','RESUME','interview']}"
   ]
  },
  {
   "cell_type": "code",
   "execution_count": 54,
   "id": "04bb0a3a-043c-4cc5-929a-9c8bfe88c897",
   "metadata": {},
   "outputs": [
    {
     "data": {
      "text/plain": [
       "{'name': 'birju',\n",
       " 'class': 'data science master',\n",
       " 'topic': ['python',\n",
       "  'stats',\n",
       "  'machine learning',\n",
       "  'DL',\n",
       "  'CV',\n",
       "  'NLP',\n",
       "  'RESUME',\n",
       "  'interview']}"
      ]
     },
     "execution_count": 54,
     "metadata": {},
     "output_type": "execute_result"
    }
   ],
   "source": [
    "d"
   ]
  },
  {
   "cell_type": "code",
   "execution_count": 55,
   "id": "a911fc95-94f2-4062-b781-49c9c16ca6b4",
   "metadata": {},
   "outputs": [
    {
     "data": {
      "text/plain": [
       "'birju'"
      ]
     },
     "execution_count": 55,
     "metadata": {},
     "output_type": "execute_result"
    }
   ],
   "source": [
    "d['name']"
   ]
  },
  {
   "cell_type": "code",
   "execution_count": 56,
   "id": "2718e22f-10ba-41ae-8742-574bcc1318a3",
   "metadata": {},
   "outputs": [
    {
     "data": {
      "text/plain": [
       "dict_keys(['name', 'class', 'topic'])"
      ]
     },
     "execution_count": 56,
     "metadata": {},
     "output_type": "execute_result"
    }
   ],
   "source": [
    "d.keys()"
   ]
  },
  {
   "cell_type": "code",
   "execution_count": 58,
   "id": "b0db4e40-7b9e-4a18-a2a0-48cba803f99b",
   "metadata": {},
   "outputs": [
    {
     "name": "stdout",
     "output_type": "stream",
     "text": [
      "birju\n",
      "data science master\n",
      "['python', 'stats', 'machine learning', 'DL', 'CV', 'NLP', 'RESUME', 'interview']\n"
     ]
    }
   ],
   "source": [
    "for i in d.keys():\n",
    "    print(d[i])"
   ]
  },
  {
   "cell_type": "code",
   "execution_count": 59,
   "id": "2ca2a672-dc94-4381-9bdc-4f27622ef37a",
   "metadata": {},
   "outputs": [
    {
     "data": {
      "text/plain": [
       "dict_values(['birju', 'data science master', ['python', 'stats', 'machine learning', 'DL', 'CV', 'NLP', 'RESUME', 'interview']])"
      ]
     },
     "execution_count": 59,
     "metadata": {},
     "output_type": "execute_result"
    }
   ],
   "source": [
    "d.values()"
   ]
  },
  {
   "cell_type": "code",
   "execution_count": 61,
   "id": "a443d655-a4e8-4479-a56c-c9736c4cc2a7",
   "metadata": {},
   "outputs": [
    {
     "name": "stdout",
     "output_type": "stream",
     "text": [
      "birju\n",
      "data science master\n",
      "['python', 'stats', 'machine learning', 'DL', 'CV', 'NLP', 'RESUME', 'interview']\n"
     ]
    }
   ],
   "source": [
    "for i in d.values():\n",
    "    print(i)"
   ]
  },
  {
   "cell_type": "code",
   "execution_count": 62,
   "id": "ef019b5d-8ff7-4cdb-b92e-157b460043f2",
   "metadata": {},
   "outputs": [
    {
     "data": {
      "text/plain": [
       "dict_items([('name', 'birju'), ('class', 'data science master'), ('topic', ['python', 'stats', 'machine learning', 'DL', 'CV', 'NLP', 'RESUME', 'interview'])])"
      ]
     },
     "execution_count": 62,
     "metadata": {},
     "output_type": "execute_result"
    }
   ],
   "source": [
    "d.items()"
   ]
  },
  {
   "cell_type": "code",
   "execution_count": 63,
   "id": "97d4af0f-08d9-4dea-b587-b4c39d0a6ed0",
   "metadata": {},
   "outputs": [
    {
     "name": "stdout",
     "output_type": "stream",
     "text": [
      "('name', 'birju')\n",
      "('class', 'data science master')\n",
      "('topic', ['python', 'stats', 'machine learning', 'DL', 'CV', 'NLP', 'RESUME', 'interview'])\n"
     ]
    }
   ],
   "source": [
    "for i in d.items():\n",
    "    print(i)"
   ]
  },
  {
   "cell_type": "code",
   "execution_count": null,
   "id": "853375aa-2551-4025-9c9c-2336c60349a7",
   "metadata": {},
   "outputs": [],
   "source": []
  }
 ],
 "metadata": {
  "kernelspec": {
   "display_name": "Python 3 (ipykernel)",
   "language": "python",
   "name": "python3"
  },
  "language_info": {
   "codemirror_mode": {
    "name": "ipython",
    "version": 3
   },
   "file_extension": ".py",
   "mimetype": "text/x-python",
   "name": "python",
   "nbconvert_exporter": "python",
   "pygments_lexer": "ipython3",
   "version": "3.10.8"
  }
 },
 "nbformat": 4,
 "nbformat_minor": 5
}
